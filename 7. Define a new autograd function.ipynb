{
 "cells": [
  {
   "cell_type": "markdown",
   "metadata": {},
   "source": [
    "[Link to Page](https://tutorials.pytorch.kr/beginner/examples_autograd/two_layer_net_custom_function.html)"
   ]
  },
  {
   "cell_type": "code",
   "execution_count": 1,
   "metadata": {
    "ExecuteTime": {
     "end_time": "2021-03-12T07:03:44.670053Z",
     "start_time": "2021-03-12T07:03:44.157586Z"
    }
   },
   "outputs": [],
   "source": [
    "import torch"
   ]
  },
  {
   "cell_type": "code",
   "execution_count": 2,
   "metadata": {
    "ExecuteTime": {
     "end_time": "2021-03-12T07:03:44.685518Z",
     "start_time": "2021-03-12T07:03:44.671052Z"
    }
   },
   "outputs": [],
   "source": [
    "class MyReLU(torch.autograd.Function):\n",
    "    \n",
    "    # 정적 메소드 --> 인스턴스화 하지 않고 호출 가능\n",
    "    # 클래스 내부 참조 불가\n",
    "    \n",
    "    @staticmethod\n",
    "    def forward(ctx, input):\n",
    "        #        ctx : context object       \n",
    "        #  역전파를 위한 정보를 저장(cache)        \n",
    "        ctx.save_for_backward(input)\n",
    "        return input.clamp(min = 0)\n",
    "    \n",
    "    @staticmethod\n",
    "    def backward(ctx, grad_output):\n",
    "        input, = ctx.saved_tensors\n",
    "        grad_input = grad_output.clone() # relu --> gradient 그대로\n",
    "        grad_input[input < 0] = 0 # 0보다 작으면 0\n",
    "        return grad_input"
   ]
  },
  {
   "cell_type": "code",
   "execution_count": 3,
   "metadata": {
    "ExecuteTime": {
     "end_time": "2021-03-12T07:03:44.700478Z",
     "start_time": "2021-03-12T07:03:44.686517Z"
    }
   },
   "outputs": [],
   "source": [
    "dtype = torch.float\n",
    "device = torch.device('cpu')\n",
    "\n",
    "N, D_in, H, D_out = 64, 1000, 100, 10\n",
    "\n",
    "x = torch.randn(N, D_in, device=device, dtype=dtype)\n",
    "y = torch.randn(N, D_out, device=device, dtype=dtype)\n",
    "\n",
    "w1 = torch.randn(D_in, H, device=device, dtype=dtype, requires_grad=True)\n",
    "w2 = torch.randn(H, D_out, device=device, dtype=dtype, requires_grad=True)"
   ]
  },
  {
   "cell_type": "code",
   "execution_count": 4,
   "metadata": {
    "ExecuteTime": {
     "end_time": "2021-03-12T07:03:44.979735Z",
     "start_time": "2021-03-12T07:03:44.701476Z"
    }
   },
   "outputs": [
    {
     "name": "stdout",
     "output_type": "stream",
     "text": [
      "0 23202500.0\n",
      "10 3400719.25\n",
      "20 246944.171875\n",
      "30 73458.0390625\n",
      "40 29632.986328125\n",
      "50 13511.732421875\n",
      "60 6623.73583984375\n",
      "70 3419.353271484375\n",
      "80 1834.195068359375\n",
      "90 1013.7418212890625\n",
      "100 574.943115234375\n",
      "110 332.53082275390625\n",
      "120 195.54351806640625\n",
      "130 116.6374740600586\n",
      "140 70.45059967041016\n",
      "150 43.01255798339844\n",
      "160 26.506183624267578\n",
      "170 16.46858024597168\n",
      "180 10.30650806427002\n",
      "190 6.490759372711182\n",
      "200 4.110825538635254\n",
      "210 2.616396903991699\n",
      "220 1.6724348068237305\n",
      "230 1.0731499195098877\n",
      "240 0.6910210847854614\n",
      "250 0.44622835516929626\n",
      "260 0.28895053267478943\n",
      "270 0.18748614192008972\n",
      "280 0.12192117422819138\n",
      "290 0.07943622767925262\n",
      "300 0.05188418924808502\n",
      "310 0.0339406281709671\n",
      "320 0.022280234843492508\n",
      "330 0.014676293358206749\n",
      "340 0.00972140021622181\n",
      "350 0.006483951583504677\n",
      "360 0.004368926864117384\n",
      "370 0.0029841966461390257\n",
      "380 0.0020649568177759647\n",
      "390 0.0014575822278857231\n",
      "400 0.0010565704433247447\n",
      "410 0.0007763088215142488\n",
      "420 0.0005830462905578315\n",
      "430 0.0004468579718377441\n",
      "440 0.00034821341978386045\n",
      "450 0.0002763725642580539\n",
      "460 0.0002224415075033903\n",
      "470 0.0001824794162530452\n",
      "480 0.00015087370411492884\n",
      "490 0.00012742231774609536\n",
      "500 0.00010737712727859616\n"
     ]
    }
   ],
   "source": [
    "learning_rate = 1e-6\n",
    "for t in range(501):\n",
    "    relu = MyReLU.apply\n",
    "    \n",
    "    #forward\n",
    "    y_pred = relu(x.mm(w1)).mm(w2)\n",
    "    \n",
    "    #loss\n",
    "    loss = (y_pred - y).pow(2).sum()\n",
    "    if t % 10 == 0:\n",
    "        print(t, loss.item())\n",
    "    \n",
    "    #backward\n",
    "    loss.backward()\n",
    "    \n",
    "    #update weight\n",
    "    with torch.no_grad():\n",
    "        w1 -= learning_rate * w1.grad\n",
    "        w2 -= learning_rate * w2.grad\n",
    "        \n",
    "        w1.grad.zero_()\n",
    "        w2.grad.zero_()"
   ]
  },
  {
   "cell_type": "code",
   "execution_count": null,
   "metadata": {},
   "outputs": [],
   "source": []
  }
 ],
 "metadata": {
  "kernelspec": {
   "display_name": "Python 3",
   "language": "python",
   "name": "python3"
  },
  "language_info": {
   "codemirror_mode": {
    "name": "ipython",
    "version": 3
   },
   "file_extension": ".py",
   "mimetype": "text/x-python",
   "name": "python",
   "nbconvert_exporter": "python",
   "pygments_lexer": "ipython3",
   "version": "3.8.3"
  },
  "toc": {
   "base_numbering": 1,
   "nav_menu": {},
   "number_sections": true,
   "sideBar": true,
   "skip_h1_title": false,
   "title_cell": "Table of Contents",
   "title_sidebar": "Contents",
   "toc_cell": false,
   "toc_position": {},
   "toc_section_display": true,
   "toc_window_display": false
  },
  "varInspector": {
   "cols": {
    "lenName": 16,
    "lenType": 16,
    "lenVar": 40
   },
   "kernels_config": {
    "python": {
     "delete_cmd_postfix": "",
     "delete_cmd_prefix": "del ",
     "library": "var_list.py",
     "varRefreshCmd": "print(var_dic_list())"
    },
    "r": {
     "delete_cmd_postfix": ") ",
     "delete_cmd_prefix": "rm(",
     "library": "var_list.r",
     "varRefreshCmd": "cat(var_dic_list()) "
    }
   },
   "types_to_exclude": [
    "module",
    "function",
    "builtin_function_or_method",
    "instance",
    "_Feature"
   ],
   "window_display": false
  }
 },
 "nbformat": 4,
 "nbformat_minor": 4
}
