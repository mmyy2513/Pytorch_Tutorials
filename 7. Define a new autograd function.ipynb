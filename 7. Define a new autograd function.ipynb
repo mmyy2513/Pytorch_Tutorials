{
 "cells": [
  {
   "cell_type": "code",
   "execution_count": 1,
   "metadata": {
    "ExecuteTime": {
     "end_time": "2021-03-12T07:03:06.595560Z",
     "start_time": "2021-03-12T07:03:05.805670Z"
    }
   },
   "outputs": [],
   "source": [
    "import torch"
   ]
  },
  {
   "cell_type": "code",
   "execution_count": 2,
   "metadata": {
    "ExecuteTime": {
     "end_time": "2021-03-12T07:03:06.610521Z",
     "start_time": "2021-03-12T07:03:06.596558Z"
    }
   },
   "outputs": [],
   "source": [
    "class MyReLU(torch.autograd.Function):\n",
    "    \n",
    "    # 정적 메소드 --> 인스턴스화 하지 않고 호출 가능\n",
    "    # 클래스 내부 참조 불가\n",
    "    \n",
    "    @staticmethod\n",
    "    def forward(ctx, input):\n",
    "        #        ctx : context object       \n",
    "        #  역전파를 위한 정보를 저장(cache)        \n",
    "        ctx.save_for_backward(input)\n",
    "        return input.clamp(min = 0)\n",
    "    \n",
    "    @staticmethod\n",
    "    def backward(ctx, grad_output):\n",
    "        input, = ctx.saved_tensors\n",
    "        grad_input = grad_output.clone() # relu --> gradient 그대로\n",
    "        grad_input[input < 0] = 0 # 0보다 작으면 0\n",
    "        return grad_input"
   ]
  },
  {
   "cell_type": "code",
   "execution_count": 3,
   "metadata": {
    "ExecuteTime": {
     "end_time": "2021-03-12T07:03:06.626478Z",
     "start_time": "2021-03-12T07:03:06.611518Z"
    }
   },
   "outputs": [],
   "source": [
    "dtype = torch.float\n",
    "device = torch.device('cpu')\n",
    "\n",
    "N, D_in, H, D_out = 64, 1000, 100, 10\n",
    "\n",
    "x = torch.randn(N, D_in, device=device, dtype=dtype)\n",
    "y = torch.randn(N, D_out, device=device, dtype=dtype)\n",
    "\n",
    "w1 = torch.randn(D_in, H, device=device, dtype=dtype, requires_grad=True)\n",
    "w2 = torch.randn(H, D_out, device=device, dtype=dtype, requires_grad=True)"
   ]
  },
  {
   "cell_type": "code",
   "execution_count": 4,
   "metadata": {
    "ExecuteTime": {
     "end_time": "2021-03-12T07:03:06.861993Z",
     "start_time": "2021-03-12T07:03:06.627476Z"
    }
   },
   "outputs": [
    {
     "name": "stdout",
     "output_type": "stream",
     "text": [
      "0 39904616.0\n",
      "10 2747715.0\n",
      "20 619902.5625\n",
      "30 508104.375\n",
      "40 523631.75\n",
      "50 3422299.0\n",
      "60 13845286.0\n",
      "70 4.324249147418751e+27\n",
      "80 nan\n",
      "90 nan\n",
      "100 nan\n",
      "110 nan\n",
      "120 nan\n",
      "130 nan\n",
      "140 nan\n",
      "150 nan\n",
      "160 nan\n",
      "170 nan\n",
      "180 nan\n",
      "190 nan\n",
      "200 nan\n",
      "210 nan\n",
      "220 nan\n",
      "230 nan\n",
      "240 nan\n",
      "250 nan\n",
      "260 nan\n",
      "270 nan\n",
      "280 nan\n",
      "290 nan\n",
      "300 nan\n",
      "310 nan\n",
      "320 nan\n",
      "330 nan\n",
      "340 nan\n",
      "350 nan\n",
      "360 nan\n",
      "370 nan\n",
      "380 nan\n",
      "390 nan\n",
      "400 nan\n",
      "410 nan\n",
      "420 nan\n",
      "430 nan\n",
      "440 nan\n",
      "450 nan\n",
      "460 nan\n",
      "470 nan\n",
      "480 nan\n",
      "490 nan\n",
      "500 nan\n"
     ]
    }
   ],
   "source": [
    "learning_rate = 1e-6\n",
    "for t in range(501):\n",
    "    relu = MyReLU.apply\n",
    "    \n",
    "    #forward\n",
    "    y_pred = relu(x.mm(w1)).mm(w2)\n",
    "    \n",
    "    #loss\n",
    "    loss = (y_pred - y).pow(2).sum()\n",
    "    if t % 10 == 0:\n",
    "        print(t, loss.item())\n",
    "    \n",
    "    #backward\n",
    "    loss.backward()\n",
    "    \n",
    "    #update weight\n",
    "    with torch.no_grad():\n",
    "        w1 -= learning_rate * w1.grad\n",
    "        w2 -= learning_rate * w2.grad\n",
    "        \n",
    "        w1.gr"
   ]
  },
  {
   "cell_type": "code",
   "execution_count": null,
   "metadata": {},
   "outputs": [],
   "source": []
  }
 ],
 "metadata": {
  "kernelspec": {
   "display_name": "Python 3",
   "language": "python",
   "name": "python3"
  },
  "language_info": {
   "codemirror_mode": {
    "name": "ipython",
    "version": 3
   },
   "file_extension": ".py",
   "mimetype": "text/x-python",
   "name": "python",
   "nbconvert_exporter": "python",
   "pygments_lexer": "ipython3",
   "version": "3.8.3"
  },
  "toc": {
   "base_numbering": 1,
   "nav_menu": {},
   "number_sections": true,
   "sideBar": true,
   "skip_h1_title": false,
   "title_cell": "Table of Contents",
   "title_sidebar": "Contents",
   "toc_cell": false,
   "toc_position": {},
   "toc_section_display": true,
   "toc_window_display": false
  },
  "varInspector": {
   "cols": {
    "lenName": 16,
    "lenType": 16,
    "lenVar": 40
   },
   "kernels_config": {
    "python": {
     "delete_cmd_postfix": "",
     "delete_cmd_prefix": "del ",
     "library": "var_list.py",
     "varRefreshCmd": "print(var_dic_list())"
    },
    "r": {
     "delete_cmd_postfix": ") ",
     "delete_cmd_prefix": "rm(",
     "library": "var_list.r",
     "varRefreshCmd": "cat(var_dic_list()) "
    }
   },
   "types_to_exclude": [
    "module",
    "function",
    "builtin_function_or_method",
    "instance",
    "_Feature"
   ],
   "window_display": false
  }
 },
 "nbformat": 4,
 "nbformat_minor": 4
}
