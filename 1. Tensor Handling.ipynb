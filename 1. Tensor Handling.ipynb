{
 "cells": [
  {
   "cell_type": "markdown",
   "metadata": {},
   "source": [
    "[Link to Page](https://tutorials.pytorch.kr/beginner/blitz/tensor_tutorial.html#sphx-glr-beginner-blitz-tensor-tutorial-py)"
   ]
  },
  {
   "cell_type": "code",
   "execution_count": 2,
   "metadata": {
    "ExecuteTime": {
     "end_time": "2021-03-08T11:52:07.735239Z",
     "start_time": "2021-03-08T11:52:05.394670Z"
    }
   },
   "outputs": [],
   "source": [
    "from __future__ import print_function\n",
    "import torch"
   ]
  },
  {
   "cell_type": "code",
   "execution_count": 3,
   "metadata": {
    "ExecuteTime": {
     "end_time": "2021-03-08T11:52:10.437142Z",
     "start_time": "2021-03-08T11:52:10.418192Z"
    },
    "scrolled": true
   },
   "outputs": [
    {
     "data": {
      "text/plain": [
       "'1.7.1+cpu'"
      ]
     },
     "execution_count": 3,
     "metadata": {},
     "output_type": "execute_result"
    }
   ],
   "source": [
    "torch.__version__"
   ]
  },
  {
   "cell_type": "markdown",
   "metadata": {},
   "source": [
    "# Tensors"
   ]
  },
  {
   "cell_type": "code",
   "execution_count": 5,
   "metadata": {
    "ExecuteTime": {
     "end_time": "2021-03-08T11:52:41.508490Z",
     "start_time": "2021-03-08T11:52:41.498512Z"
    }
   },
   "outputs": [
    {
     "name": "stdout",
     "output_type": "stream",
     "text": [
      "tensor([[-2.5353e+30,  1.0141e+31,  2.5223e-44],\n",
      "        [ 2.5353e-38,  2.5715e-38,  9.9179e-38],\n",
      "        [ 1.0433e-37, -3.4391e-12,  1.6615e+35],\n",
      "        [ 6.7010e+22,  1.2404e-14,  3.0478e+32],\n",
      "        [ 1.8467e+20,  2.6798e+20,  3.8678e-14]])\n"
     ]
    }
   ],
   "source": [
    "# 초기화되지 않은 행렬\n",
    "\n",
    "x = torch.empty(5,3)\n",
    "print(x)"
   ]
  },
  {
   "cell_type": "code",
   "execution_count": 8,
   "metadata": {
    "ExecuteTime": {
     "end_time": "2021-03-08T11:53:24.441404Z",
     "start_time": "2021-03-08T11:53:24.427438Z"
    }
   },
   "outputs": [
    {
     "name": "stdout",
     "output_type": "stream",
     "text": [
      "tensor([[0.5536, 0.7699, 0.1722],\n",
      "        [0.7529, 0.0195, 0.4441],\n",
      "        [0.8291, 0.1925, 0.0038],\n",
      "        [0.7561, 0.4158, 0.7893],\n",
      "        [0.1046, 0.8206, 0.2356]])\n"
     ]
    }
   ],
   "source": [
    "# 무작위로 초기화된 행렬\n",
    "\n",
    "x = torch.rand(5,3)\n",
    "print(x)"
   ]
  },
  {
   "cell_type": "code",
   "execution_count": 11,
   "metadata": {
    "ExecuteTime": {
     "end_time": "2021-03-08T11:54:34.592511Z",
     "start_time": "2021-03-08T11:54:34.578545Z"
    }
   },
   "outputs": [
    {
     "name": "stdout",
     "output_type": "stream",
     "text": [
      "tensor([[0, 0, 0],\n",
      "        [0, 0, 0],\n",
      "        [0, 0, 0],\n",
      "        [0, 0, 0],\n",
      "        [0, 0, 0]])\n"
     ]
    }
   ],
   "source": [
    "# 0으로 초기화된 행렬, type = long\n",
    "# default = float\n",
    "\n",
    "x = torch.zeros(5,3, dtype = torch.long)\n",
    "print(x)"
   ]
  },
  {
   "cell_type": "code",
   "execution_count": 13,
   "metadata": {
    "ExecuteTime": {
     "end_time": "2021-03-08T11:55:35.583654Z",
     "start_time": "2021-03-08T11:55:35.570358Z"
    }
   },
   "outputs": [
    {
     "name": "stdout",
     "output_type": "stream",
     "text": [
      "tensor([5.5000, 3.0000])\n"
     ]
    }
   ],
   "source": [
    "# 직접 tensor 생성\n",
    "\n",
    "x = torch.tensor([5.5, 3])\n",
    "print(x)"
   ]
  },
  {
   "cell_type": "code",
   "execution_count": 17,
   "metadata": {
    "ExecuteTime": {
     "end_time": "2021-03-08T11:58:17.663158Z",
     "start_time": "2021-03-08T11:58:17.651186Z"
    }
   },
   "outputs": [
    {
     "name": "stdout",
     "output_type": "stream",
     "text": [
      "tensor([[1., 1., 1.],\n",
      "        [1., 1., 1.],\n",
      "        [1., 1., 1.],\n",
      "        [1., 1., 1.],\n",
      "        [1., 1., 1.]], dtype=torch.float64)\n"
     ]
    }
   ],
   "source": [
    "# 기존 tensor를 바탕으로 새로운 tensor\n",
    "\n",
    "x = x.new_ones(5, 3, dtype = torch.double)\n",
    "print(x)"
   ]
  },
  {
   "cell_type": "code",
   "execution_count": 19,
   "metadata": {
    "ExecuteTime": {
     "end_time": "2021-03-08T11:59:08.257447Z",
     "start_time": "2021-03-08T11:59:08.242486Z"
    }
   },
   "outputs": [
    {
     "name": "stdout",
     "output_type": "stream",
     "text": [
      "tensor([[ 1.0783,  0.0822, -0.3893],\n",
      "        [-1.0252, -0.0533, -0.9640],\n",
      "        [-0.0503, -0.9245, -0.6729],\n",
      "        [-0.8756,  0.4166,  2.1495],\n",
      "        [-0.4141,  1.6754,  1.7914]])\n"
     ]
    }
   ],
   "source": [
    "# x와 같은 크기의 난수 행렬\n",
    "\n",
    "x = torch.randn_like(x, dtype = torch.float)\n",
    "print(x)"
   ]
  },
  {
   "cell_type": "code",
   "execution_count": 21,
   "metadata": {
    "ExecuteTime": {
     "end_time": "2021-03-08T11:59:23.823008Z",
     "start_time": "2021-03-08T11:59:23.810043Z"
    }
   },
   "outputs": [
    {
     "name": "stdout",
     "output_type": "stream",
     "text": [
      "torch.Size([5, 3])\n"
     ]
    }
   ],
   "source": [
    "# 행렬의 크기\n",
    "\n",
    "print(x.size())"
   ]
  },
  {
   "cell_type": "markdown",
   "metadata": {},
   "source": [
    "# Operations"
   ]
  },
  {
   "cell_type": "code",
   "execution_count": 22,
   "metadata": {
    "ExecuteTime": {
     "end_time": "2021-03-08T12:00:02.178631Z",
     "start_time": "2021-03-08T12:00:02.170147Z"
    }
   },
   "outputs": [
    {
     "name": "stdout",
     "output_type": "stream",
     "text": [
      "tensor([[ 1.3612,  0.6154,  0.5100],\n",
      "        [-1.0240,  0.0561, -0.0833],\n",
      "        [ 0.2819, -0.5354, -0.6115],\n",
      "        [-0.1938,  1.0990,  2.8548],\n",
      "        [ 0.0442,  2.2723,  2.7342]])\n"
     ]
    }
   ],
   "source": [
    "# add 1\n",
    "\n",
    "y = torch.rand(5,3)\n",
    "print(x + y)"
   ]
  },
  {
   "cell_type": "code",
   "execution_count": 23,
   "metadata": {
    "ExecuteTime": {
     "end_time": "2021-03-08T12:00:15.167783Z",
     "start_time": "2021-03-08T12:00:15.154818Z"
    }
   },
   "outputs": [
    {
     "name": "stdout",
     "output_type": "stream",
     "text": [
      "tensor([[ 1.3612,  0.6154,  0.5100],\n",
      "        [-1.0240,  0.0561, -0.0833],\n",
      "        [ 0.2819, -0.5354, -0.6115],\n",
      "        [-0.1938,  1.0990,  2.8548],\n",
      "        [ 0.0442,  2.2723,  2.7342]])\n"
     ]
    }
   ],
   "source": [
    "# add 2\n",
    "\n",
    "print(torch.add(x,y))"
   ]
  },
  {
   "cell_type": "code",
   "execution_count": 24,
   "metadata": {
    "ExecuteTime": {
     "end_time": "2021-03-08T12:01:09.725265Z",
     "start_time": "2021-03-08T12:01:09.715292Z"
    }
   },
   "outputs": [
    {
     "name": "stdout",
     "output_type": "stream",
     "text": [
      "tensor([[ 1.3612,  0.6154,  0.5100],\n",
      "        [-1.0240,  0.0561, -0.0833],\n",
      "        [ 0.2819, -0.5354, -0.6115],\n",
      "        [-0.1938,  1.0990,  2.8548],\n",
      "        [ 0.0442,  2.2723,  2.7342]])\n"
     ]
    }
   ],
   "source": [
    "# 결과 tensor를 인자로 제공할 수 있다\n",
    "\n",
    "result = torch.empty(5, 3)\n",
    "torch.add(x, y, out = result)\n",
    "print(result)"
   ]
  },
  {
   "cell_type": "code",
   "execution_count": 25,
   "metadata": {
    "ExecuteTime": {
     "end_time": "2021-03-08T12:01:33.725770Z",
     "start_time": "2021-03-08T12:01:33.714800Z"
    }
   },
   "outputs": [
    {
     "name": "stdout",
     "output_type": "stream",
     "text": [
      "tensor([[ 1.3612,  0.6154,  0.5100],\n",
      "        [-1.0240,  0.0561, -0.0833],\n",
      "        [ 0.2819, -0.5354, -0.6115],\n",
      "        [-0.1938,  1.0990,  2.8548],\n",
      "        [ 0.0442,  2.2723,  2.7342]])\n"
     ]
    }
   ],
   "source": [
    "# inplace 연산 (method_)\n",
    "\n",
    "y.add_(x)\n",
    "print(y)"
   ]
  },
  {
   "cell_type": "code",
   "execution_count": 29,
   "metadata": {
    "ExecuteTime": {
     "end_time": "2021-03-08T12:02:31.708649Z",
     "start_time": "2021-03-08T12:02:31.690693Z"
    }
   },
   "outputs": [
    {
     "name": "stdout",
     "output_type": "stream",
     "text": [
      "tensor([[ 1.0783,  0.0822],\n",
      "        [-1.0252, -0.0533],\n",
      "        [-0.0503, -0.9245],\n",
      "        [-0.8756,  0.4166],\n",
      "        [-0.4141,  1.6754]])\n"
     ]
    }
   ],
   "source": [
    "# indexing like numpy\n",
    "\n",
    "print(x[:,:-1])"
   ]
  },
  {
   "cell_type": "code",
   "execution_count": 30,
   "metadata": {
    "ExecuteTime": {
     "end_time": "2021-03-08T12:03:40.415854Z",
     "start_time": "2021-03-08T12:03:40.410866Z"
    }
   },
   "outputs": [
    {
     "name": "stdout",
     "output_type": "stream",
     "text": [
      "torch.Size([4, 4]) torch.Size([16]) torch.Size([2, 8])\n"
     ]
    }
   ],
   "source": [
    "# reshape = view\n",
    "\n",
    "x = torch.randn(4, 4)\n",
    "y = x.view(16)\n",
    "z = x.view(-1, 8) # (2, 8)\n",
    "\n",
    "print(x.size(), y.size(), z.size())"
   ]
  },
  {
   "cell_type": "code",
   "execution_count": 32,
   "metadata": {
    "ExecuteTime": {
     "end_time": "2021-03-08T12:04:51.064966Z",
     "start_time": "2021-03-08T12:04:51.051003Z"
    }
   },
   "outputs": [
    {
     "name": "stdout",
     "output_type": "stream",
     "text": [
      "tensor([0.2614])\n",
      "0.26141488552093506\n"
     ]
    }
   ],
   "source": [
    "# tensor의 값이 하나라면 .item()을 이용해여 숫자 값만 얻을 수 있다\n",
    "\n",
    "x = torch.rand(1)\n",
    "print(x)\n",
    "print(x.item())"
   ]
  },
  {
   "cell_type": "markdown",
   "metadata": {},
   "source": [
    "# Numpy 변환"
   ]
  },
  {
   "cell_type": "code",
   "execution_count": 39,
   "metadata": {
    "ExecuteTime": {
     "end_time": "2021-03-08T12:30:41.707844Z",
     "start_time": "2021-03-08T12:30:41.689892Z"
    }
   },
   "outputs": [
    {
     "name": "stdout",
     "output_type": "stream",
     "text": [
      "tensor([1., 1., 1., 1., 1.]) torch.float32\n",
      "[1. 1. 1. 1. 1.] float32\n"
     ]
    }
   ],
   "source": [
    "import numpy as np\n",
    "# Tensor2Numpy\n",
    "\n",
    "a = torch.ones(5)\n",
    "print(a, a.dtype)\n",
    "\n",
    "b = a.numpy()\n",
    "print(b, b.dtype)"
   ]
  },
  {
   "cell_type": "code",
   "execution_count": 40,
   "metadata": {
    "ExecuteTime": {
     "end_time": "2021-03-08T12:30:45.404181Z",
     "start_time": "2021-03-08T12:30:45.395206Z"
    }
   },
   "outputs": [
    {
     "name": "stdout",
     "output_type": "stream",
     "text": [
      "tensor([2., 2., 2., 2., 2.])\n",
      "[2. 2. 2. 2. 2.]\n"
     ]
    }
   ],
   "source": [
    "# 값이 함께 바뀜\n",
    "\n",
    "a.add_(1)\n",
    "print(a)\n",
    "print(b)"
   ]
  },
  {
   "cell_type": "code",
   "execution_count": 41,
   "metadata": {
    "ExecuteTime": {
     "end_time": "2021-03-08T12:31:23.205257Z",
     "start_time": "2021-03-08T12:31:23.186308Z"
    }
   },
   "outputs": [
    {
     "name": "stdout",
     "output_type": "stream",
     "text": [
      "[1. 1. 1. 1. 1.] float64\n",
      "tensor([1., 1., 1., 1., 1.], dtype=torch.float64) torch.float64\n"
     ]
    }
   ],
   "source": [
    "# Numpy2Tensor\n",
    "\n",
    "a = np.ones(5)\n",
    "b = torch.from_numpy(a)\n",
    "\n",
    "print(a, a.dtype)\n",
    "print(b, b.dtype)"
   ]
  },
  {
   "cell_type": "code",
   "execution_count": 43,
   "metadata": {
    "ExecuteTime": {
     "end_time": "2021-03-08T12:31:55.451973Z",
     "start_time": "2021-03-08T12:31:55.435019Z"
    }
   },
   "outputs": [
    {
     "name": "stdout",
     "output_type": "stream",
     "text": [
      "[3. 3. 3. 3. 3.]\n",
      "tensor([3., 3., 3., 3., 3.], dtype=torch.float64)\n"
     ]
    }
   ],
   "source": [
    "# 역시 값이 함께 바뀜\n",
    "\n",
    "np.add(a, 1, out = a)\n",
    "print(a)\n",
    "print(b)"
   ]
  },
  {
   "cell_type": "markdown",
   "metadata": {},
   "source": [
    "# CUDA"
   ]
  },
  {
   "cell_type": "code",
   "execution_count": 44,
   "metadata": {
    "ExecuteTime": {
     "end_time": "2021-03-08T12:32:41.714240Z",
     "start_time": "2021-03-08T12:32:41.706261Z"
    }
   },
   "outputs": [],
   "source": [
    "if torch.cuda.is_available():\n",
    "    device = torch.device(\"cuda\")          # CUDA 장치 객체(device object)로\n",
    "    y = torch.ones_like(x, device=device)  # GPU 상에 직접적으로 tensor를 생성하거나\n",
    "    x = x.to(device)                       # ``.to(\"cuda\")`` 를 사용하면 됩니다.\n",
    "    z = x + y\n",
    "    print(z)\n",
    "    print(z.to(\"cpu\", torch.double))       # ``.to`` 는 dtype도 함께 변경합니다!"
   ]
  },
  {
   "cell_type": "code",
   "execution_count": null,
   "metadata": {},
   "outputs": [],
   "source": []
  }
 ],
 "metadata": {
  "kernelspec": {
   "display_name": "Python 3",
   "language": "python",
   "name": "python3"
  },
  "language_info": {
   "codemirror_mode": {
    "name": "ipython",
    "version": 3
   },
   "file_extension": ".py",
   "mimetype": "text/x-python",
   "name": "python",
   "nbconvert_exporter": "python",
   "pygments_lexer": "ipython3",
   "version": "3.8.3"
  },
  "toc": {
   "base_numbering": 1,
   "nav_menu": {},
   "number_sections": true,
   "sideBar": true,
   "skip_h1_title": false,
   "title_cell": "Table of Contents",
   "title_sidebar": "Contents",
   "toc_cell": false,
   "toc_position": {},
   "toc_section_display": true,
   "toc_window_display": false
  },
  "varInspector": {
   "cols": {
    "lenName": 16,
    "lenType": 16,
    "lenVar": 40
   },
   "kernels_config": {
    "python": {
     "delete_cmd_postfix": "",
     "delete_cmd_prefix": "del ",
     "library": "var_list.py",
     "varRefreshCmd": "print(var_dic_list())"
    },
    "r": {
     "delete_cmd_postfix": ") ",
     "delete_cmd_prefix": "rm(",
     "library": "var_list.r",
     "varRefreshCmd": "cat(var_dic_list()) "
    }
   },
   "types_to_exclude": [
    "module",
    "function",
    "builtin_function_or_method",
    "instance",
    "_Feature"
   ],
   "window_display": false
  }
 },
 "nbformat": 4,
 "nbformat_minor": 4
}
