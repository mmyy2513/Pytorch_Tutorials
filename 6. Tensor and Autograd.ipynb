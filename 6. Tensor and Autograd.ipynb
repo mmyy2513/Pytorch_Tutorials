{
 "cells": [
  {
   "cell_type": "markdown",
   "metadata": {},
   "source": [
    "[Link to Page](https://tutorials.pytorch.kr/beginner/examples_autograd/two_layer_net_autograd.html)"
   ]
  },
  {
   "cell_type": "code",
   "execution_count": 1,
   "metadata": {
    "ExecuteTime": {
     "end_time": "2021-03-12T04:24:06.381064Z",
     "start_time": "2021-03-12T04:24:05.890305Z"
    },
    "code_folding": [
     0
    ]
   },
   "outputs": [],
   "source": [
    "# 5에 이어서..\n",
    "\n",
    "import torch"
   ]
  },
  {
   "cell_type": "code",
   "execution_count": 2,
   "metadata": {
    "ExecuteTime": {
     "end_time": "2021-03-12T04:24:06.397022Z",
     "start_time": "2021-03-12T04:24:06.382058Z"
    }
   },
   "outputs": [],
   "source": [
    "dtype = torch.float\n",
    "device = torch.device(\"cpu\")"
   ]
  },
  {
   "cell_type": "code",
   "execution_count": 3,
   "metadata": {
    "ExecuteTime": {
     "end_time": "2021-03-12T04:24:06.412980Z",
     "start_time": "2021-03-12T04:24:06.398016Z"
    }
   },
   "outputs": [],
   "source": [
    "N = 64 # Batch\n",
    "D_in = 1000 # Input\n",
    "H = 100 # Hidden\n",
    "D_out = 10 # Output"
   ]
  },
  {
   "cell_type": "code",
   "execution_count": 4,
   "metadata": {
    "ExecuteTime": {
     "end_time": "2021-03-12T04:24:06.428936Z",
     "start_time": "2021-03-12T04:24:06.414001Z"
    }
   },
   "outputs": [],
   "source": [
    "x = torch.randn(N, D_in, device = device, dtype = dtype)\n",
    "y = torch.randn(N, D_out, device = device, dtype = dtype)\n",
    "\n",
    "w1 = torch.randn(D_in, H, device = device, dtype = dtype, requires_grad = True)\n",
    "w2 = torch.randn(H, D_out, device = device, dtype = dtype, requires_grad = True)"
   ]
  },
  {
   "cell_type": "code",
   "execution_count": 5,
   "metadata": {
    "ExecuteTime": {
     "end_time": "2021-03-12T04:24:06.666297Z",
     "start_time": "2021-03-12T04:24:06.429930Z"
    }
   },
   "outputs": [
    {
     "name": "stdout",
     "output_type": "stream",
     "text": [
      "0 30889706.0\n",
      "10 1448030.75\n",
      "20 230657.5625\n",
      "30 74448.859375\n",
      "40 28741.61328125\n",
      "50 12343.876953125\n",
      "60 5705.1884765625\n",
      "70 2779.167724609375\n",
      "80 1409.865478515625\n",
      "90 739.206298828125\n",
      "100 396.80084228515625\n",
      "110 216.93783569335938\n",
      "120 120.3627700805664\n",
      "130 67.6943130493164\n",
      "140 38.49393081665039\n",
      "150 22.081512451171875\n",
      "160 12.75499439239502\n",
      "170 7.411410331726074\n",
      "180 4.327989101409912\n",
      "190 2.5388376712799072\n",
      "200 1.4957501888275146\n",
      "210 0.8838897943496704\n",
      "220 0.5239017009735107\n",
      "230 0.31134867668151855\n",
      "240 0.1853950470685959\n",
      "250 0.11065315455198288\n",
      "260 0.06615260988473892\n",
      "270 0.039615463465452194\n",
      "280 0.023806842043995857\n",
      "290 0.014361019246280193\n",
      "300 0.008724234998226166\n",
      "310 0.005361375864595175\n",
      "320 0.003339837770909071\n",
      "330 0.0021367252338677645\n",
      "340 0.001405714312568307\n",
      "350 0.0009520064340904355\n",
      "360 0.0006659389473497868\n",
      "370 0.00048018008237704635\n",
      "380 0.0003550687397364527\n",
      "390 0.0002685881918296218\n",
      "400 0.00020952509657945484\n",
      "410 0.00016662980488035828\n",
      "420 0.0001336377317784354\n",
      "430 0.00010957962513202801\n",
      "440 9.131689876085147e-05\n",
      "450 7.743748574284837e-05\n",
      "460 6.582384958164766e-05\n",
      "470 5.72337448829785e-05\n",
      "480 4.9661495722830296e-05\n",
      "490 4.4017968320986256e-05\n",
      "500 3.881569136865437e-05\n"
     ]
    }
   ],
   "source": [
    "learning_rate = 1e-6\n",
    "for t in range(501):\n",
    "    #forward\n",
    "    y_pred = x.mm(w1).clamp(min = 0).mm(w2) # x * w1 --> relu --> * w2\n",
    "    \n",
    "    # loss\n",
    "    loss = (y_pred - y).pow(2).sum() #mse loss\n",
    "    if t % 10 == 0:\n",
    "        print(t, loss.item())\n",
    "        \n",
    "    # backward\n",
    "    \n",
    "    loss.backward()\n",
    "    \n",
    "    # do not track w1,w2 \n",
    "    with torch.no_grad():\n",
    "        w1 -= learning_rate * w1.grad\n",
    "        w2 -= learning_rate * w2.grad\n",
    "        \n",
    "        # 갱신 후 gradient 0로\n",
    "        w1.grad.zero_()\n",
    "        w2.grad.zero_()"
   ]
  },
  {
   "cell_type": "code",
   "execution_count": null,
   "metadata": {},
   "outputs": [],
   "source": []
  }
 ],
 "metadata": {
  "kernelspec": {
   "display_name": "Python 3",
   "language": "python",
   "name": "python3"
  },
  "language_info": {
   "codemirror_mode": {
    "name": "ipython",
    "version": 3
   },
   "file_extension": ".py",
   "mimetype": "text/x-python",
   "name": "python",
   "nbconvert_exporter": "python",
   "pygments_lexer": "ipython3",
   "version": "3.8.3"
  },
  "toc": {
   "base_numbering": 1,
   "nav_menu": {},
   "number_sections": true,
   "sideBar": true,
   "skip_h1_title": false,
   "title_cell": "Table of Contents",
   "title_sidebar": "Contents",
   "toc_cell": false,
   "toc_position": {},
   "toc_section_display": true,
   "toc_window_display": false
  },
  "varInspector": {
   "cols": {
    "lenName": 16,
    "lenType": 16,
    "lenVar": 40
   },
   "kernels_config": {
    "python": {
     "delete_cmd_postfix": "",
     "delete_cmd_prefix": "del ",
     "library": "var_list.py",
     "varRefreshCmd": "print(var_dic_list())"
    },
    "r": {
     "delete_cmd_postfix": ") ",
     "delete_cmd_prefix": "rm(",
     "library": "var_list.r",
     "varRefreshCmd": "cat(var_dic_list()) "
    }
   },
   "types_to_exclude": [
    "module",
    "function",
    "builtin_function_or_method",
    "instance",
    "_Feature"
   ],
   "window_display": false
  }
 },
 "nbformat": 4,
 "nbformat_minor": 4
}
