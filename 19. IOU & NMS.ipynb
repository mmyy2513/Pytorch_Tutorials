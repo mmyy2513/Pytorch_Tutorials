{
 "cells": [
  {
   "cell_type": "code",
   "execution_count": 1,
   "metadata": {
    "ExecuteTime": {
     "end_time": "2021-04-01T02:52:41.113007Z",
     "start_time": "2021-04-01T02:52:40.082697Z"
    }
   },
   "outputs": [],
   "source": [
    "import torch"
   ]
  },
  {
   "cell_type": "code",
   "execution_count": 2,
   "metadata": {
    "ExecuteTime": {
     "end_time": "2021-04-01T02:52:41.129015Z",
     "start_time": "2021-04-01T02:52:41.114005Z"
    }
   },
   "outputs": [],
   "source": [
    "# itersection / union (prediction and ground truth)\n",
    "def intersection_over_union(boxes_preds, boxes_label, box_format=\"midpoint\"):  \n",
    "    # boxes_preds.shape = (batch_size, 4) \n",
    "    # boxes_label.shape = (batch_size, 4)\n",
    "    \n",
    "    if box_format == 'corners':\n",
    "        box1_x1 = boxes_preds[:, 0:1]\n",
    "        box1_y1 = boxes_preds[:, 1:2]\n",
    "        box1_x2 = boxes_preds[:, 2:3]\n",
    "        box1_y2 = boxes_preds[:, 3:4]  # By using slioing, can maintain shape --> (N, 1)\n",
    "\n",
    "        box2_x1 = boxes_labels[:, 0:1]\n",
    "        box2_y1 = boxes_labels[:, 1:2]\n",
    "        box2_x2 = boxes_labels[:, 2:3]\n",
    "        box2_y2 = boxes_labels[:, 3:4]\n",
    "\n",
    "        x1 = torch.max(box1_x1, box2_x1)\n",
    "        y1 = torch.max(box1_y1, box2_y1)\n",
    "        x2 = torch.min(box1_x2, box2_x2)\n",
    "        y2 = torch.min(box1_y2, box2_y2)\n",
    "\n",
    "    elif box_format == 'midpoint':\n",
    "        # 0, 1, 2, 3 : mid_x, mid_y, width, height\n",
    "        box1_x1 = boxes_preds[:, 0:1] - boxes_preds[:, 2:3] / 2\n",
    "        box1_y1 = boxes_preds[:, 1:2] - boxes_preds[:, 3:4] / 2\n",
    "        box1_x2 = boxes_preds[:, 0:1] + boxes_preds[:, 2:3] / 2\n",
    "        box1_y2 = boxes_preds[:, 1:2] + boxes_preds[:, 3:4] / 2\n",
    "\n",
    "        box2_x1 = boxes_labels[:, 0:1] - boxes_labels[:, 2:3] / 2\n",
    "        box2_y1 = boxes_labels[:, 1:2] - boxes_labels[:, 3:4] / 2\n",
    "        box2_x2 = boxes_labels[:, 0:1] + boxes_labels[:, 2:3] / 2\n",
    "        box2_y2 = boxes_labels[:, 1:2] + boxes_labels[:, 3:4] / 2\n",
    "\n",
    "    # clamp(0) --> for the case there are no intersection\n",
    "    intersection = (x2 - x1).clamp(0) * (y2 - y1).clamp(0)\n",
    "\n",
    "    box1_area = abs((box1_x2 - box1_x1) * (box1_y1 - box1_y2))\n",
    "    box2_area = abs((box2_x2 - box2_x1) * (box2_y1 - box2_y2))\n",
    "\n",
    "    union = box1_area + box2_area - intersection\n",
    "    \n",
    "    return intersection / (union + 1e-7)"
   ]
  },
  {
   "cell_type": "code",
   "execution_count": 3,
   "metadata": {
    "ExecuteTime": {
     "end_time": "2021-04-01T02:52:41.144275Z",
     "start_time": "2021-04-01T02:52:41.130012Z"
    }
   },
   "outputs": [],
   "source": [
    "# Non Maximum Suppression\n",
    "def NMS(bboxes, prob_thresh, iou_thresh, box_format=\"corners\"):\n",
    "    #bboxes = [[class, proba, x1, y1, x2, y2], [...]]\n",
    "    assert type(bboxes) == list\n",
    "\n",
    "    bboxes = [box for box in bboxes if box[1] > prob_threshold]\n",
    "    bboxes = sorted(bboxes, key=lambda x: x[1],\n",
    "                    reverse=True)  # high -> low proba\n",
    "    bboxes_after_nms = []\n",
    "\n",
    "    while bboxes:\n",
    "        chosen_box = bboxes.pop(0)  # highest proba\n",
    "\n",
    "        bboxes = [\n",
    "            box for box in bboxes if box[0] != chosen_box[0]  # not same class\n",
    "            or intersection_over_union(\n",
    "                torch.tensor(chosen_box[2:]),  # COORD\n",
    "                torch.tensor(box[2:]),\n",
    "                box_format=box_format) < iou_thresh\n",
    "        ]\n",
    "        bboxes_after_nms.append(chosen_box)\n",
    "\n",
    "    return bboxes_after_nms"
   ]
  }
 ],
 "metadata": {
  "kernelspec": {
   "display_name": "Python 3",
   "language": "python",
   "name": "python3"
  },
  "language_info": {
   "codemirror_mode": {
    "name": "ipython",
    "version": 3
   },
   "file_extension": ".py",
   "mimetype": "text/x-python",
   "name": "python",
   "nbconvert_exporter": "python",
   "pygments_lexer": "ipython3",
   "version": "3.8.3"
  },
  "toc": {
   "base_numbering": 1,
   "nav_menu": {},
   "number_sections": true,
   "sideBar": true,
   "skip_h1_title": false,
   "title_cell": "Table of Contents",
   "title_sidebar": "Contents",
   "toc_cell": false,
   "toc_position": {},
   "toc_section_display": true,
   "toc_window_display": false
  },
  "varInspector": {
   "cols": {
    "lenName": 16,
    "lenType": 16,
    "lenVar": 40
   },
   "kernels_config": {
    "python": {
     "delete_cmd_postfix": "",
     "delete_cmd_prefix": "del ",
     "library": "var_list.py",
     "varRefreshCmd": "print(var_dic_list())"
    },
    "r": {
     "delete_cmd_postfix": ") ",
     "delete_cmd_prefix": "rm(",
     "library": "var_list.r",
     "varRefreshCmd": "cat(var_dic_list()) "
    }
   },
   "types_to_exclude": [
    "module",
    "function",
    "builtin_function_or_method",
    "instance",
    "_Feature"
   ],
   "window_display": false
  }
 },
 "nbformat": 4,
 "nbformat_minor": 4
}
