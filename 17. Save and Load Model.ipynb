{
 "cells": [
  {
   "cell_type": "code",
   "execution_count": 1,
   "metadata": {
    "ExecuteTime": {
     "end_time": "2021-03-29T12:16:11.508294Z",
     "start_time": "2021-03-29T12:16:10.898923Z"
    }
   },
   "outputs": [],
   "source": [
    "import torch\n",
    "import torch.nn as nn\n",
    "import torch.optim as optim\n",
    "import torch.nn.functional as F\n",
    "from torch.utils.data import DataLoader, TensorDataset\n",
    "import torchvision.datasets as datasets\n",
    "import torchvision.transforms as transforms"
   ]
  },
  {
   "cell_type": "code",
   "execution_count": 2,
   "metadata": {
    "ExecuteTime": {
     "end_time": "2021-03-29T12:16:11.524252Z",
     "start_time": "2021-03-29T12:16:11.509292Z"
    }
   },
   "outputs": [],
   "source": [
    "# Simple CNN\n",
    "class CNN(nn.Module):\n",
    "    def __init__(self, in_channels, num_classes):\n",
    "        super(CNN, self).__init__()\n",
    "        self.conv1 = nn.Conv2d(in_channels, 8, kernel_size= (3,3), padding= (1,1), stride = (1,1))\n",
    "        self.pool = nn.MaxPool2d(kernel_size=(2,2), stride=(2,2))\n",
    "        self.conv2 = nn.Conv2d(8, 16, kernel_size=(3,3), stride=(1,1), padding= (1,1))\n",
    "        self.fc1 = nn.Linear(16 * 7 *7, num_classes)\n",
    "        \n",
    "    def forward(self, x):\n",
    "        x = F.relu(self.conv1(x))\n",
    "        x = self.pool(x)\n",
    "        x = F.relu(self.conv2(x))\n",
    "        x = self.pool(x)\n",
    "        x = x.view(x.shape[0], -1)\n",
    "        x = self.fc1(x)\n",
    "        return x\n",
    "\n",
    "device = 'cpu'\n",
    "\n",
    "in_channels = 1\n",
    "num_classes = 10\n",
    "lr = 1e-4\n",
    "batch_size = 16\n",
    "epochs = 10\n",
    "load_model = True"
   ]
  },
  {
   "cell_type": "code",
   "execution_count": 3,
   "metadata": {
    "ExecuteTime": {
     "end_time": "2021-03-29T12:16:12.157083Z",
     "start_time": "2021-03-29T12:16:11.525249Z"
    }
   },
   "outputs": [],
   "source": [
    "import pickle, gzip\n",
    "\n",
    "with gzip.open('C:/Users/OWNER/Desktop/mnist.pkl.gz', 'rb') as f:\n",
    "    ((x_train, y_train), (x_test, y_test), _) = pickle.load(f, encoding=\"latin-1\")\n",
    "    \n",
    "x_train, y_train, x_test, y_test = map(torch.tensor, (x_train, y_train, x_test, y_test))\n",
    "\n",
    "train_ds = TensorDataset(x_train, y_train)\n",
    "test_ds = TensorDataset(x_test, y_test)\n",
    "train_loader = DataLoader(train_ds, batch_size= batch_size)\n",
    "test_loader = DataLoader(test_ds, batch_size= batch_size)"
   ]
  },
  {
   "cell_type": "code",
   "execution_count": 4,
   "metadata": {
    "ExecuteTime": {
     "end_time": "2021-03-29T12:16:12.173040Z",
     "start_time": "2021-03-29T12:16:12.158081Z"
    }
   },
   "outputs": [],
   "source": [
    "model = CNN(in_channels, num_classes).to(device)\n",
    "\n",
    "criterion = nn.CrossEntropyLoss()\n",
    "optimizer = optim.Adam(model.parameters(), lr = lr)"
   ]
  },
  {
   "cell_type": "code",
   "execution_count": 5,
   "metadata": {
    "ExecuteTime": {
     "end_time": "2021-03-29T12:16:12.188997Z",
     "start_time": "2021-03-29T12:16:12.174038Z"
    }
   },
   "outputs": [],
   "source": [
    "def save_checkpoint(state, num):\n",
    "    filename = 'my_checkpoint{}.pth.tar'.format(num)\n",
    "    torch.save(state, filename)\n",
    "    print(\"=> Saving checkpoint at epoch {} : {}\".format(num, filename))"
   ]
  },
  {
   "cell_type": "code",
   "execution_count": 6,
   "metadata": {
    "ExecuteTime": {
     "end_time": "2021-03-29T12:16:12.204955Z",
     "start_time": "2021-03-29T12:16:12.189995Z"
    }
   },
   "outputs": [],
   "source": [
    "def load_checkpoint(checkpoint):\n",
    "    print(\"=> Loading checkpoint\")\n",
    "    model.load_state_dict(checkpoint['state_dict'])\n",
    "    optimizer.load_state_dict(checkpoint['optimizer'])"
   ]
  },
  {
   "cell_type": "code",
   "execution_count": 7,
   "metadata": {
    "ExecuteTime": {
     "end_time": "2021-03-29T12:16:12.220912Z",
     "start_time": "2021-03-29T12:16:12.206949Z"
    }
   },
   "outputs": [
    {
     "name": "stdout",
     "output_type": "stream",
     "text": [
      "=> Loading checkpoint\n"
     ]
    }
   ],
   "source": [
    "if load_model == True:\n",
    "    load_checkpoint(torch.load(\"my_checkpoint.pth.tar\"))"
   ]
  },
  {
   "cell_type": "code",
   "execution_count": 8,
   "metadata": {
    "ExecuteTime": {
     "end_time": "2021-03-29T12:17:12.934872Z",
     "start_time": "2021-03-29T12:16:12.221910Z"
    }
   },
   "outputs": [
    {
     "name": "stdout",
     "output_type": "stream",
     "text": [
      "=> Saving checkpoint at epoch 0 : my_checkpoint0.pth.tar\n",
      "cost at epoch 0 was 0.05989\n",
      "cost at epoch 1 was 0.05695\n",
      "cost at epoch 2 was 0.05435\n",
      "=> Saving checkpoint at epoch 3 : my_checkpoint3.pth.tar\n",
      "cost at epoch 3 was 0.05203\n",
      "cost at epoch 4 was 0.04995\n",
      "cost at epoch 5 was 0.04807\n",
      "=> Saving checkpoint at epoch 6 : my_checkpoint6.pth.tar\n",
      "cost at epoch 6 was 0.04635\n",
      "cost at epoch 7 was 0.04476\n",
      "cost at epoch 8 was 0.04330\n",
      "=> Saving checkpoint at epoch 9 : my_checkpoint9.pth.tar\n",
      "cost at epoch 9 was 0.04195\n"
     ]
    }
   ],
   "source": [
    "for epoch in range(epochs):\n",
    "    losses = []\n",
    "    \n",
    "    if epoch % 3 == 0:\n",
    "        checkpoint = {'state_dict' : model.state_dict(), 'optimizer': optimizer.state_dict()}\n",
    "        save_checkpoint(checkpoint, epoch)\n",
    "        \n",
    "    for batch_idx, (data, targets) in enumerate(train_loader):\n",
    "        data = data.to(device)\n",
    "        targets = targets.to(device)\n",
    "        data = data.view(-1, 1, 28, 28)\n",
    "        \n",
    "        scores = model(data)\n",
    "        loss = criterion(scores, targets)\n",
    "        losses.append(loss.item())\n",
    "        \n",
    "        optimizer.zero_grad()\n",
    "        loss.backward()\n",
    "        optimizer.step()\n",
    "    \n",
    "    cost = sum(losses)/len(losses)\n",
    "    print(f\"cost at epoch {epoch} was {cost:.5f}\")"
   ]
  },
  {
   "cell_type": "code",
   "execution_count": null,
   "metadata": {},
   "outputs": [],
   "source": []
  }
 ],
 "metadata": {
  "kernelspec": {
   "display_name": "Python 3",
   "language": "python",
   "name": "python3"
  },
  "language_info": {
   "codemirror_mode": {
    "name": "ipython",
    "version": 3
   },
   "file_extension": ".py",
   "mimetype": "text/x-python",
   "name": "python",
   "nbconvert_exporter": "python",
   "pygments_lexer": "ipython3",
   "version": "3.8.3"
  },
  "toc": {
   "base_numbering": 1,
   "nav_menu": {},
   "number_sections": true,
   "sideBar": true,
   "skip_h1_title": false,
   "title_cell": "Table of Contents",
   "title_sidebar": "Contents",
   "toc_cell": false,
   "toc_position": {},
   "toc_section_display": true,
   "toc_window_display": false
  },
  "varInspector": {
   "cols": {
    "lenName": 16,
    "lenType": 16,
    "lenVar": 40
   },
   "kernels_config": {
    "python": {
     "delete_cmd_postfix": "",
     "delete_cmd_prefix": "del ",
     "library": "var_list.py",
     "varRefreshCmd": "print(var_dic_list())"
    },
    "r": {
     "delete_cmd_postfix": ") ",
     "delete_cmd_prefix": "rm(",
     "library": "var_list.r",
     "varRefreshCmd": "cat(var_dic_list()) "
    }
   },
   "types_to_exclude": [
    "module",
    "function",
    "builtin_function_or_method",
    "instance",
    "_Feature"
   ],
   "window_display": false
  }
 },
 "nbformat": 4,
 "nbformat_minor": 4
}
