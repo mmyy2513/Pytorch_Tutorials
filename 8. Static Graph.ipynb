{
 "cells": [
  {
   "cell_type": "markdown",
   "metadata": {},
   "source": [
    "[Link to Page](https://tutorials.pytorch.kr/beginner/examples_autograd/tf_two_layer_net.html)"
   ]
  },
  {
   "cell_type": "markdown",
   "metadata": {},
   "source": [
    "# Pytorch vs. Tensorflow\n",
    "- Tensorflow : 정적 연산 그래프를 사용\n",
    "- Pytorch : 동적 연산 그래프를 사용\n",
    "- [참고 링크](https://dev-jm.tistory.com/4)"
   ]
  },
  {
   "cell_type": "code",
   "execution_count": 1,
   "metadata": {
    "ExecuteTime": {
     "end_time": "2021-03-15T08:46:45.544933Z",
     "start_time": "2021-03-15T08:46:37.514383Z"
    }
   },
   "outputs": [
    {
     "name": "stdout",
     "output_type": "stream",
     "text": [
      "WARNING:tensorflow:From C:\\Users\\OWNER\\anaconda3\\lib\\site-packages\\tensorflow\\python\\compat\\v2_compat.py:96: disable_resource_variables (from tensorflow.python.ops.variable_scope) is deprecated and will be removed in a future version.\n",
      "Instructions for updating:\n",
      "non-resource variables are not supported in the long term\n"
     ]
    }
   ],
   "source": [
    "import tensorflow.compat.v1 as tf\n",
    "import numpy as np\n",
    "tf.disable_v2_behavior()"
   ]
  },
  {
   "cell_type": "code",
   "execution_count": 2,
   "metadata": {
    "ExecuteTime": {
     "end_time": "2021-03-15T08:46:45.559893Z",
     "start_time": "2021-03-15T08:46:45.545932Z"
    }
   },
   "outputs": [],
   "source": [
    "# batch size, input size, hidden layer, output size\n",
    "N, D_in, H, D_out = 64, 1000, 100, 10"
   ]
  },
  {
   "cell_type": "code",
   "execution_count": 3,
   "metadata": {
    "ExecuteTime": {
     "end_time": "2021-03-15T08:46:45.590811Z",
     "start_time": "2021-03-15T08:46:45.560891Z"
    }
   },
   "outputs": [],
   "source": [
    "# variables\n",
    "x = tf.placeholder(tf.float32, shape=(None, D_in))\n",
    "y = tf.placeholder(tf.float32, shape=(None, D_out))\n",
    "\n",
    "w1 = tf.Variable(tf.random_normal((D_in, H)))\n",
    "w2 = tf.Variable(tf.random_normal((H, D_out)))"
   ]
  },
  {
   "cell_type": "code",
   "execution_count": 4,
   "metadata": {
    "ExecuteTime": {
     "end_time": "2021-03-15T08:46:45.606768Z",
     "start_time": "2021-03-15T08:46:45.591808Z"
    }
   },
   "outputs": [],
   "source": [
    "# forward\n",
    "h = tf.matmul(x, w1)\n",
    "h_relu = tf.maximum(h, tf.zeros(1))\n",
    "y_pred = tf.matmul(h_relu, w2)"
   ]
  },
  {
   "cell_type": "code",
   "execution_count": 5,
   "metadata": {
    "ExecuteTime": {
     "end_time": "2021-03-15T08:46:45.622726Z",
     "start_time": "2021-03-15T08:46:45.607765Z"
    }
   },
   "outputs": [],
   "source": [
    "# loss\n",
    "loss = tf.reduce_sum((y - y_pred)**2.)"
   ]
  },
  {
   "cell_type": "code",
   "execution_count": 6,
   "metadata": {
    "ExecuteTime": {
     "end_time": "2021-03-15T08:46:45.654640Z",
     "start_time": "2021-03-15T08:46:45.623723Z"
    }
   },
   "outputs": [],
   "source": [
    "# gradient\n",
    "grad_w1, grad_w2 = tf.gradients(loss, [w1, w2])"
   ]
  },
  {
   "cell_type": "code",
   "execution_count": 7,
   "metadata": {
    "ExecuteTime": {
     "end_time": "2021-03-15T08:46:45.669600Z",
     "start_time": "2021-03-15T08:46:45.656635Z"
    }
   },
   "outputs": [],
   "source": [
    "# lr\n",
    "learning_rate = 1e-6\n",
    "\n",
    "# weights for update\n",
    "new_w1 = w1.assign(w1 - learning_rate * grad_w1)\n",
    "new_w2 = w2.assign(w2 - learning_rate * grad_w2)"
   ]
  },
  {
   "cell_type": "code",
   "execution_count": 8,
   "metadata": {
    "ExecuteTime": {
     "end_time": "2021-03-15T08:46:46.003708Z",
     "start_time": "2021-03-15T08:46:45.670598Z"
    }
   },
   "outputs": [
    {
     "name": "stdout",
     "output_type": "stream",
     "text": [
      "0 35998384.0\n",
      "100 980.41907\n",
      "200 17.380226\n",
      "300 0.6282811\n",
      "400 0.02740389\n",
      "500 0.0016614888\n"
     ]
    }
   ],
   "source": [
    "# Session\n",
    "with tf.Session() as sess:\n",
    "    # initialization\n",
    "    sess.run(tf.global_variables_initializer())\n",
    "\n",
    "    x_value = np.random.randn(N, D_in)\n",
    "    y_value = np.random.randn(N, D_out)\n",
    "\n",
    "    for t in range(501):\n",
    "        \"\"\"\n",
    "        run함수를 통해 그래프를 실행\n",
    "        매 실행마다 feed_dict의 x, y에 x_value, y_value를 할당하고 loss, new_w1, new_w2 계산\n",
    "        \"\"\"\n",
    "        loss_val, _, _ = sess.run([loss, new_w1, new_w2], feed_dict={\n",
    "                                  x: x_value, y: y_value})\n",
    "        if t % 100 == 0:\n",
    "            print(t, loss_val)"
   ]
  },
  {
   "cell_type": "code",
   "execution_count": null,
   "metadata": {},
   "outputs": [],
   "source": []
  }
 ],
 "metadata": {
  "kernelspec": {
   "display_name": "Python 3",
   "language": "python",
   "name": "python3"
  },
  "language_info": {
   "codemirror_mode": {
    "name": "ipython",
    "version": 3
   },
   "file_extension": ".py",
   "mimetype": "text/x-python",
   "name": "python",
   "nbconvert_exporter": "python",
   "pygments_lexer": "ipython3",
   "version": "3.8.3"
  },
  "toc": {
   "base_numbering": 1,
   "nav_menu": {},
   "number_sections": true,
   "sideBar": true,
   "skip_h1_title": false,
   "title_cell": "Table of Contents",
   "title_sidebar": "Contents",
   "toc_cell": false,
   "toc_position": {},
   "toc_section_display": true,
   "toc_window_display": false
  },
  "varInspector": {
   "cols": {
    "lenName": 16,
    "lenType": 16,
    "lenVar": 40
   },
   "kernels_config": {
    "python": {
     "delete_cmd_postfix": "",
     "delete_cmd_prefix": "del ",
     "library": "var_list.py",
     "varRefreshCmd": "print(var_dic_list())"
    },
    "r": {
     "delete_cmd_postfix": ") ",
     "delete_cmd_prefix": "rm(",
     "library": "var_list.r",
     "varRefreshCmd": "cat(var_dic_list()) "
    }
   },
   "types_to_exclude": [
    "module",
    "function",
    "builtin_function_or_method",
    "instance",
    "_Feature"
   ],
   "window_display": false
  }
 },
 "nbformat": 4,
 "nbformat_minor": 4
}
