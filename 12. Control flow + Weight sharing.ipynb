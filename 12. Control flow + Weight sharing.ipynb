{
 "cells": [
  {
   "cell_type": "markdown",
   "metadata": {},
   "source": [
    "[Link to Page](https://tutorials.pytorch.kr/beginner/examples_nn/dynamic_net.html)"
   ]
  },
  {
   "cell_type": "code",
   "execution_count": 1,
   "metadata": {
    "ExecuteTime": {
     "end_time": "2021-03-17T01:11:45.946293Z",
     "start_time": "2021-03-17T01:11:45.457082Z"
    }
   },
   "outputs": [],
   "source": [
    "import torch\n",
    "import torch.nn as nn\n",
    "import torch.optim as optim\n",
    "import random"
   ]
  },
  {
   "cell_type": "code",
   "execution_count": 2,
   "metadata": {
    "ExecuteTime": {
     "end_time": "2021-03-17T01:11:45.961254Z",
     "start_time": "2021-03-17T01:11:45.947291Z"
    }
   },
   "outputs": [],
   "source": [
    "class DynamicNet(nn.Module):\n",
    "    def __init__(self, D_in, H, D_out):\n",
    "        super(DynamicNet, self).__init__()\n",
    "        self.input_layer = nn.Linear(D_in, H)\n",
    "        self.middle_layer = nn.Linear(H, H)\n",
    "        self.output_layer = nn.Linear(H, D_out)\n",
    "    \n",
    "    def forward(self, x):\n",
    "        h_relu = self.input_layer(x).clamp(min = 0)\n",
    "        # 0, 1, 2 중 무작위 수의 은닉층을 *재사용*\n",
    "        for _ in range(random.randint(0, 3)):\n",
    "            h_relu = self.middle_layer(h_relu).clamp(min = 0)\n",
    "        y_pred = self.output_layer(h_relu)\n",
    "        return y_pred"
   ]
  },
  {
   "cell_type": "code",
   "execution_count": 3,
   "metadata": {
    "ExecuteTime": {
     "end_time": "2021-03-17T01:11:46.373153Z",
     "start_time": "2021-03-17T01:11:45.962252Z"
    }
   },
   "outputs": [
    {
     "name": "stdout",
     "output_type": "stream",
     "text": [
      "0 642.1619262695312\n",
      "100 19.09575653076172\n",
      "200 4.119936943054199\n",
      "300 0.9391107559204102\n",
      "400 0.138663649559021\n",
      "500 0.3825610280036926\n"
     ]
    }
   ],
   "source": [
    "N, D_in, H, D_out = 64, 1000, 100, 10\n",
    "\n",
    "x = torch.randn(N, D_in)\n",
    "y = torch.randn(N, D_out)\n",
    "\n",
    "model = DynamicNet(D_in, H, D_out)\n",
    "\n",
    "criterian = nn.MSELoss(reduction = 'sum')\n",
    "optimizer = optim.SGD(model.parameters(), lr = 1e-4, momentum=0.9)\n",
    "\n",
    "epochs = 501\n",
    "for t in range(epochs):\n",
    "    y_pred = model(x)\n",
    "    \n",
    "    loss = criterian(y_pred, y)\n",
    "    if t % 100 == 0:\n",
    "        print(t, loss.item())\n",
    "    \n",
    "    optimizer.zero_grad()\n",
    "    loss.backward()\n",
    "    optimizer.step()\n",
    "    "
   ]
  },
  {
   "cell_type": "code",
   "execution_count": null,
   "metadata": {},
   "outputs": [],
   "source": []
  }
 ],
 "metadata": {
  "kernelspec": {
   "display_name": "Python 3",
   "language": "python",
   "name": "python3"
  },
  "language_info": {
   "codemirror_mode": {
    "name": "ipython",
    "version": 3
   },
   "file_extension": ".py",
   "mimetype": "text/x-python",
   "name": "python",
   "nbconvert_exporter": "python",
   "pygments_lexer": "ipython3",
   "version": "3.8.3"
  },
  "toc": {
   "base_numbering": 1,
   "nav_menu": {},
   "number_sections": true,
   "sideBar": true,
   "skip_h1_title": false,
   "title_cell": "Table of Contents",
   "title_sidebar": "Contents",
   "toc_cell": false,
   "toc_position": {},
   "toc_section_display": true,
   "toc_window_display": false
  },
  "varInspector": {
   "cols": {
    "lenName": 16,
    "lenType": 16,
    "lenVar": 40
   },
   "kernels_config": {
    "python": {
     "delete_cmd_postfix": "",
     "delete_cmd_prefix": "del ",
     "library": "var_list.py",
     "varRefreshCmd": "print(var_dic_list())"
    },
    "r": {
     "delete_cmd_postfix": ") ",
     "delete_cmd_prefix": "rm(",
     "library": "var_list.r",
     "varRefreshCmd": "cat(var_dic_list()) "
    }
   },
   "types_to_exclude": [
    "module",
    "function",
    "builtin_function_or_method",
    "instance",
    "_Feature"
   ],
   "window_display": false
  }
 },
 "nbformat": 4,
 "nbformat_minor": 4
}
