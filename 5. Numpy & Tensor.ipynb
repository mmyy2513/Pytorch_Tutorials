{
 "cells": [
  {
   "cell_type": "markdown",
   "metadata": {},
   "source": [
    "# Numpy\n",
    "- [Link to Page](https://tutorials.pytorch.kr/beginner/examples_tensor/two_layer_net_numpy.html)"
   ]
  },
  {
   "cell_type": "code",
   "execution_count": 1,
   "metadata": {
    "ExecuteTime": {
     "end_time": "2021-03-11T02:06:18.696034Z",
     "start_time": "2021-03-11T02:06:18.539910Z"
    }
   },
   "outputs": [],
   "source": [
    "import numpy as np"
   ]
  },
  {
   "cell_type": "code",
   "execution_count": 2,
   "metadata": {
    "ExecuteTime": {
     "end_time": "2021-03-11T02:06:18.711960Z",
     "start_time": "2021-03-11T02:06:18.697001Z"
    }
   },
   "outputs": [],
   "source": [
    "# N : 배치 크기\n",
    "# D_in : 입력의 차원\n",
    "# H : 은닉층 차원\n",
    "# D_out : 출력 차원\n",
    "N, D_in, H, D_out = 64, 1000, 100, 10"
   ]
  },
  {
   "cell_type": "code",
   "execution_count": 3,
   "metadata": {
    "ExecuteTime": {
     "end_time": "2021-03-11T02:06:18.727917Z",
     "start_time": "2021-03-11T02:06:18.712959Z"
    }
   },
   "outputs": [],
   "source": [
    "# 입출력 데이터 생성\n",
    "x = np.random.randn(N, D_in)\n",
    "y = np.random.randn(N, D_out)\n",
    "\n",
    "# 가중치 초기화 ( 무작위 )\n",
    "w1 = np.random.randn(D_in, H)\n",
    "w2 = np.random.randn(H, D_out)"
   ]
  },
  {
   "cell_type": "code",
   "execution_count": 4,
   "metadata": {
    "ExecuteTime": {
     "end_time": "2021-03-11T02:06:19.053049Z",
     "start_time": "2021-03-11T02:06:18.728916Z"
    }
   },
   "outputs": [
    {
     "name": "stdout",
     "output_type": "stream",
     "text": [
      "0 27356899.0647\n",
      "10 2200733.4902\n",
      "20 235291.2504\n",
      "30 76192.7672\n",
      "40 29665.8436\n",
      "50 12776.0463\n",
      "60 5909.9944\n",
      "70 2874.6869\n",
      "80 1447.4187\n",
      "90 747.9379\n",
      "100 394.0387\n",
      "110 210.7956\n",
      "120 114.3980\n",
      "130 62.7363\n",
      "140 34.6977\n",
      "150 19.3271\n",
      "160 10.8321\n",
      "170 6.1032\n",
      "180 3.4551\n",
      "190 1.9640\n",
      "200 1.1206\n",
      "210 0.6415\n",
      "220 0.3683\n",
      "230 0.2121\n",
      "240 0.1224\n",
      "250 0.0708\n",
      "260 0.0411\n",
      "270 0.0238\n",
      "280 0.0139\n",
      "290 0.0081\n",
      "300 0.0047\n",
      "310 0.0028\n",
      "320 0.0016\n",
      "330 0.0009\n",
      "340 0.0006\n",
      "350 0.0003\n",
      "360 0.0002\n",
      "370 0.0001\n",
      "380 0.0001\n",
      "390 0.0000\n",
      "400 0.0000\n",
      "410 0.0000\n",
      "420 0.0000\n",
      "430 0.0000\n",
      "440 0.0000\n",
      "450 0.0000\n",
      "460 0.0000\n",
      "470 0.0000\n",
      "480 0.0000\n",
      "490 0.0000\n",
      "500 0.0000\n"
     ]
    }
   ],
   "source": [
    "# lr\n",
    "learning_rate = 1e-6\n",
    "\n",
    "for t in range(501):\n",
    "    # forward pass ( 순전파 )\n",
    "    # x * w1 --> h\n",
    "    # h * relu --> h_relu\n",
    "    # h_relu * w2 --> y_pred\n",
    "    \n",
    "    h = x.dot(w1)\n",
    "    h_relu = np.maximum(h, 0)\n",
    "    y_pred = h_relu.dot(w2)\n",
    "    \n",
    "    # loss\n",
    "    loss = np.square(y_pred - y).sum()\n",
    "    if t % 10 == 0:\n",
    "        print(t,\"{:.4f}\".format(loss))\n",
    "    \n",
    "    # w1, w2의 변화도 계산, 역전파\n",
    "    grad_y_pred = 2.0 * (y_pred - y)\n",
    "    grad_w2 = h_relu.T.dot(grad_y_pred) # grad_y_pred : upstream gradient, dot --> gradient switch\n",
    "    grad_h_relu = grad_y_pred.dot(w2.T)\n",
    "    grad_h = grad_h_relu.copy() # relu --> 그대로 전파\n",
    "    grad_h[ h < 0 ] = 0 # relu --> 0보다 작으면 0\n",
    "    grad_w1 = x.T.dot(grad_h)\n",
    "    \n",
    "    # update weight\n",
    "    w1 -= learning_rate * grad_w1\n",
    "    w2 -= learning_rate * grad_w2"
   ]
  },
  {
   "cell_type": "markdown",
   "metadata": {},
   "source": [
    "# Tensor\n",
    "- [Link to Page](https://tutorials.pytorch.kr/beginner/examples_tensor/two_layer_net_tensor.html)"
   ]
  },
  {
   "cell_type": "code",
   "execution_count": 5,
   "metadata": {
    "ExecuteTime": {
     "end_time": "2021-03-11T02:06:19.419070Z",
     "start_time": "2021-03-11T02:06:19.054047Z"
    }
   },
   "outputs": [],
   "source": [
    "import torch"
   ]
  },
  {
   "cell_type": "code",
   "execution_count": 6,
   "metadata": {
    "ExecuteTime": {
     "end_time": "2021-03-11T02:06:19.434029Z",
     "start_time": "2021-03-11T02:06:19.420067Z"
    }
   },
   "outputs": [],
   "source": [
    "dtype = torch.float\n",
    "device = torch.device(\"cpu\")\n",
    "# device = torch.device(\"cuda:0\") # only using gpu"
   ]
  },
  {
   "cell_type": "code",
   "execution_count": 7,
   "metadata": {
    "ExecuteTime": {
     "end_time": "2021-03-11T02:06:19.449987Z",
     "start_time": "2021-03-11T02:06:19.436025Z"
    }
   },
   "outputs": [],
   "source": [
    "N, D_in, H, D_out = 64, 1000, 100, 10"
   ]
  },
  {
   "cell_type": "code",
   "execution_count": 8,
   "metadata": {
    "ExecuteTime": {
     "end_time": "2021-03-11T02:06:19.464947Z",
     "start_time": "2021-03-11T02:06:19.450985Z"
    }
   },
   "outputs": [],
   "source": [
    "# 입출력 데이터 생성\n",
    "x = torch.randn(N, D_in, device = device, dtype= dtype )\n",
    "y = torch.randn(N, D_out, device = device, dtype= dtype)\n",
    "\n",
    "# 가중치 초기화 ( 무작위 )\n",
    "w1 = torch.randn(D_in, H, device = device, dtype= dtype)\n",
    "w2 = torch.randn(H, D_out, device = device, dtype= dtype)"
   ]
  },
  {
   "cell_type": "code",
   "execution_count": 9,
   "metadata": {
    "ExecuteTime": {
     "end_time": "2021-03-11T02:06:19.640477Z",
     "start_time": "2021-03-11T02:06:19.465945Z"
    }
   },
   "outputs": [
    {
     "name": "stdout",
     "output_type": "stream",
     "text": [
      "0 35550796.0000\n",
      "10 1010266.6875\n",
      "20 227799.6250\n",
      "30 77326.8906\n",
      "40 32102.8184\n",
      "50 15031.2969\n",
      "60 7670.0991\n",
      "70 4188.3511\n",
      "80 2403.4258\n",
      "90 1434.7886\n",
      "100 883.6292\n",
      "110 558.9139\n",
      "120 361.2712\n",
      "130 237.8179\n",
      "140 158.9673\n",
      "150 107.6461\n",
      "160 73.6961\n",
      "170 50.9278\n",
      "180 35.4751\n",
      "190 24.8799\n",
      "200 17.5519\n",
      "210 12.4444\n",
      "220 8.8620\n",
      "230 6.3346\n",
      "240 4.5428\n",
      "250 3.2673\n",
      "260 2.3557\n",
      "270 1.7023\n",
      "280 1.2325\n",
      "290 0.8938\n",
      "300 0.6491\n",
      "310 0.4721\n",
      "320 0.3437\n",
      "330 0.2506\n",
      "340 0.1829\n",
      "350 0.1336\n",
      "360 0.0976\n",
      "370 0.0714\n",
      "380 0.0524\n",
      "390 0.0384\n",
      "400 0.0282\n",
      "410 0.0208\n",
      "420 0.0153\n",
      "430 0.0114\n",
      "440 0.0084\n",
      "450 0.0063\n",
      "460 0.0048\n",
      "470 0.0036\n",
      "480 0.0028\n",
      "490 0.0021\n",
      "500 0.0016\n"
     ]
    }
   ],
   "source": [
    "# lr \n",
    "learning_rate = 1e-6\n",
    "for t in range(501):\n",
    "    # forward pass\n",
    "    h = x.mm(w1) # matmul\n",
    "    h_relu = h.clamp(min = 0)\n",
    "    y_pred = h_relu.mm(w2)\n",
    "    \n",
    "    # loss\n",
    "    loss = (y_pred - y).pow(2).sum().item() # .item() --> return value\n",
    "    if t % 10 == 0:\n",
    "        print(t,\"{:.4f}\".format(loss))\n",
    "    \n",
    "    # backward pass\n",
    "    grad_y_pred = 2. * (y_pred - y)\n",
    "    grad_w2 = h_relu.t().mm(grad_y_pred)\n",
    "    grad_h_relu = grad_y_pred.mm(w2.t())\n",
    "    grad_h = grad_h_relu.clone()\n",
    "    grad_h[ h < 0 ] = 0\n",
    "    grad_w1 = x.t().mm(grad_h)\n",
    "    \n",
    "    # update weight\n",
    "    w1 -= learning_rate * grad_w1\n",
    "    w2 -= learning_rate * grad_w2\n",
    "    "
   ]
  },
  {
   "cell_type": "code",
   "execution_count": null,
   "metadata": {},
   "outputs": [],
   "source": []
  }
 ],
 "metadata": {
  "kernelspec": {
   "display_name": "Python 3",
   "language": "python",
   "name": "python3"
  },
  "language_info": {
   "codemirror_mode": {
    "name": "ipython",
    "version": 3
   },
   "file_extension": ".py",
   "mimetype": "text/x-python",
   "name": "python",
   "nbconvert_exporter": "python",
   "pygments_lexer": "ipython3",
   "version": "3.8.3"
  },
  "toc": {
   "base_numbering": 1,
   "nav_menu": {},
   "number_sections": true,
   "sideBar": true,
   "skip_h1_title": false,
   "title_cell": "Table of Contents",
   "title_sidebar": "Contents",
   "toc_cell": false,
   "toc_position": {},
   "toc_section_display": true,
   "toc_window_display": false
  },
  "varInspector": {
   "cols": {
    "lenName": 16,
    "lenType": 16,
    "lenVar": 40
   },
   "kernels_config": {
    "python": {
     "delete_cmd_postfix": "",
     "delete_cmd_prefix": "del ",
     "library": "var_list.py",
     "varRefreshCmd": "print(var_dic_list())"
    },
    "r": {
     "delete_cmd_postfix": ") ",
     "delete_cmd_prefix": "rm(",
     "library": "var_list.r",
     "varRefreshCmd": "cat(var_dic_list()) "
    }
   },
   "types_to_exclude": [
    "module",
    "function",
    "builtin_function_or_method",
    "instance",
    "_Feature"
   ],
   "window_display": false
  }
 },
 "nbformat": 4,
 "nbformat_minor": 4
}
