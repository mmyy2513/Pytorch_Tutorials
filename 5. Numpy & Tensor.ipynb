{
 "cells": [
  {
   "cell_type": "markdown",
   "metadata": {},
   "source": [
    "# Numpy\n",
    "- [Link to Page](https://tutorials.pytorch.kr/beginner/examples_tensor/two_layer_net_numpy.html)"
   ]
  },
  {
   "cell_type": "code",
   "execution_count": 1,
   "metadata": {
    "ExecuteTime": {
     "end_time": "2021-03-11T02:05:00.581951Z",
     "start_time": "2021-03-11T02:05:00.414350Z"
    }
   },
   "outputs": [],
   "source": [
    "import numpy as np"
   ]
  },
  {
   "cell_type": "code",
   "execution_count": 2,
   "metadata": {
    "ExecuteTime": {
     "end_time": "2021-03-11T02:05:00.596910Z",
     "start_time": "2021-03-11T02:05:00.582944Z"
    }
   },
   "outputs": [],
   "source": [
    "# N : 배치 크기\n",
    "# D_in : 입력의 차원\n",
    "# H : 은닉층 차원\n",
    "# D_out : 출력 차원\n",
    "N, D_in, H, D_out = 64, 1000, 100, 10"
   ]
  },
  {
   "cell_type": "code",
   "execution_count": 3,
   "metadata": {
    "ExecuteTime": {
     "end_time": "2021-03-11T02:05:00.611870Z",
     "start_time": "2021-03-11T02:05:00.597905Z"
    }
   },
   "outputs": [],
   "source": [
    "# 입출력 데이터 생성\n",
    "x = np.random.randn(N, D_in)\n",
    "y = np.random.randn(N, D_out)\n",
    "\n",
    "# 가중치 초기화 ( 무작위 )\n",
    "w1 = np.random.randn(D_in, H)\n",
    "w2 = np.random.randn(H, D_out)"
   ]
  },
  {
   "cell_type": "code",
   "execution_count": 4,
   "metadata": {
    "ExecuteTime": {
     "end_time": "2021-03-11T02:05:00.949962Z",
     "start_time": "2021-03-11T02:05:00.612864Z"
    }
   },
   "outputs": [
    {
     "name": "stdout",
     "output_type": "stream",
     "text": [
      "9 2339826.0278\n",
      "19 264878.1227\n",
      "29 82255.2141\n",
      "39 31119.1982\n",
      "49 13319.5620\n",
      "59 6207.4764\n",
      "69 3067.2312\n",
      "79 1584.8695\n",
      "89 848.5967\n",
      "99 467.4283\n",
      "109 263.4418\n",
      "119 151.2725\n",
      "129 88.2027\n",
      "139 52.0815\n",
      "149 31.0732\n",
      "159 18.6983\n",
      "169 11.3321\n",
      "179 6.9090\n",
      "189 4.2335\n",
      "199 2.6052\n",
      "209 1.6091\n",
      "219 0.9970\n",
      "229 0.6195\n",
      "239 0.3858\n",
      "249 0.2408\n",
      "259 0.1506\n",
      "269 0.0943\n",
      "279 0.0592\n",
      "289 0.0372\n",
      "299 0.0234\n",
      "309 0.0147\n",
      "319 0.0093\n",
      "329 0.0059\n",
      "339 0.0037\n",
      "349 0.0023\n",
      "359 0.0015\n",
      "369 0.0009\n",
      "379 0.0006\n",
      "389 0.0004\n",
      "399 0.0002\n",
      "409 0.0002\n",
      "419 0.0001\n",
      "429 0.0001\n",
      "439 0.0000\n",
      "449 0.0000\n",
      "459 0.0000\n",
      "469 0.0000\n",
      "479 0.0000\n",
      "489 0.0000\n",
      "499 0.0000\n"
     ]
    }
   ],
   "source": [
    "# lr\n",
    "learning_rate = 1e-6\n",
    "\n",
    "for t in range(500):\n",
    "    # forward pass ( 순전파 )\n",
    "    # x * w1 --> h\n",
    "    # h * relu --> h_relu\n",
    "    # h_relu * w2 --> y_pred\n",
    "    \n",
    "    h = x.dot(w1)\n",
    "    h_relu = np.maximum(h, 0)\n",
    "    y_pred = h_relu.dot(w2)\n",
    "    \n",
    "    # loss\n",
    "    loss = np.square(y_pred - y).sum()\n",
    "    if t % 11 == 10:\n",
    "        print(t,\"{:.4f}\".format(loss))\n",
    "    \n",
    "    # w1, w2의 변화도 계산, 역전파\n",
    "    grad_y_pred = 2.0 * (y_pred - y)\n",
    "    grad_w2 = h_relu.T.dot(grad_y_pred) # grad_y_pred : upstream gradient, dot --> gradient switch\n",
    "    grad_h_relu = grad_y_pred.dot(w2.T)\n",
    "    grad_h = grad_h_relu.copy() # relu --> 그대로 전파\n",
    "    grad_h[ h < 0 ] = 0 # relu --> 0보다 작으면 0\n",
    "    grad_w1 = x.T.dot(grad_h)\n",
    "    \n",
    "    # update weight\n",
    "    w1 -= learning_rate * grad_w1\n",
    "    w2 -= learning_rate * grad_w2"
   ]
  },
  {
   "cell_type": "markdown",
   "metadata": {},
   "source": [
    "# Tensor\n",
    "- [Link to Page](https://tutorials.pytorch.kr/beginner/examples_tensor/two_layer_net_tensor.html)"
   ]
  },
  {
   "cell_type": "code",
   "execution_count": 5,
   "metadata": {
    "ExecuteTime": {
     "end_time": "2021-03-11T02:05:01.328976Z",
     "start_time": "2021-03-11T02:05:00.950960Z"
    }
   },
   "outputs": [],
   "source": [
    "import torch"
   ]
  },
  {
   "cell_type": "code",
   "execution_count": 6,
   "metadata": {
    "ExecuteTime": {
     "end_time": "2021-03-11T02:05:01.344932Z",
     "start_time": "2021-03-11T02:05:01.329946Z"
    }
   },
   "outputs": [],
   "source": [
    "dtype = torch.float\n",
    "device = torch.device(\"cpu\")\n",
    "# device = torch.device(\"cuda:0\") # only using gpu"
   ]
  },
  {
   "cell_type": "code",
   "execution_count": 7,
   "metadata": {
    "ExecuteTime": {
     "end_time": "2021-03-11T02:05:01.359895Z",
     "start_time": "2021-03-11T02:05:01.346930Z"
    }
   },
   "outputs": [],
   "source": [
    "N, D_in, H, D_out = 64, 1000, 100, 10"
   ]
  },
  {
   "cell_type": "code",
   "execution_count": 8,
   "metadata": {
    "ExecuteTime": {
     "end_time": "2021-03-11T02:05:01.375823Z",
     "start_time": "2021-03-11T02:05:01.360892Z"
    }
   },
   "outputs": [],
   "source": [
    "# 입출력 데이터 생성\n",
    "x = torch.randn(N, D_in, device = device, dtype= dtype )\n",
    "y = torch.randn(N, D_out, device = device, dtype= dtype)\n",
    "\n",
    "# 가중치 초기화 ( 무작위 )\n",
    "w1 = torch.randn(D_in, H, device = device, dtype= dtype)\n",
    "w2 = torch.randn(H, D_out, device = device, dtype= dtype)"
   ]
  },
  {
   "cell_type": "code",
   "execution_count": 9,
   "metadata": {
    "ExecuteTime": {
     "end_time": "2021-03-11T02:05:01.548866Z",
     "start_time": "2021-03-11T02:05:01.376821Z"
    }
   },
   "outputs": [
    {
     "name": "stdout",
     "output_type": "stream",
     "text": [
      "9 2889501.0000\n",
      "19 264929.9375\n",
      "29 86883.1094\n",
      "39 34666.5039\n",
      "49 15199.4824\n",
      "59 7023.6533\n",
      "69 3362.4287\n",
      "79 1654.9215\n",
      "89 831.9147\n",
      "99 425.8176\n",
      "109 221.3177\n",
      "119 116.6317\n",
      "129 62.2507\n",
      "139 33.6157\n",
      "149 18.3562\n",
      "159 10.1276\n",
      "169 5.6439\n",
      "179 3.1750\n",
      "189 1.8024\n",
      "199 1.0323\n",
      "209 0.5964\n",
      "219 0.3473\n",
      "229 0.2039\n",
      "239 0.1206\n",
      "249 0.0719\n",
      "259 0.0432\n",
      "269 0.0261\n",
      "279 0.0160\n",
      "289 0.0099\n",
      "299 0.0062\n",
      "309 0.0039\n",
      "319 0.0026\n",
      "329 0.0017\n",
      "339 0.0012\n",
      "349 0.0008\n",
      "359 0.0006\n",
      "369 0.0005\n",
      "379 0.0003\n",
      "389 0.0003\n",
      "399 0.0002\n",
      "409 0.0002\n",
      "419 0.0001\n",
      "429 0.0001\n",
      "439 0.0001\n",
      "449 0.0001\n",
      "459 0.0001\n",
      "469 0.0001\n",
      "479 0.0001\n",
      "489 0.0000\n",
      "499 0.0000\n"
     ]
    }
   ],
   "source": [
    "# lr \n",
    "learning_rate = 1e-6\n",
    "for t in range(500):\n",
    "    # forward pass\n",
    "    h = x.mm(w1) # matmul\n",
    "    h_relu = h.clamp(min = 0)\n",
    "    y_pred = h_relu.mm(w2)\n",
    "    \n",
    "    # loss\n",
    "    loss = (y_pred - y).pow(2).sum().item() # .item() --> return value\n",
    "    if t % 11 == 10:\n",
    "        print(t,\"{:.4f}\".format(loss))\n",
    "    \n",
    "    # backward pass\n",
    "    grad_y_pred = 2. * (y_pred - y)\n",
    "    grad_w2 = h_relu.t().mm(grad_y_pred)\n",
    "    grad_h_relu = grad_y_pred.mm(w2.t())\n",
    "    grad_h = grad_h_relu.clone()\n",
    "    grad_h[ h < 0 ] = 0\n",
    "    grad_w1 = x.t().mm(grad_h)\n",
    "    \n",
    "    # update weight\n",
    "    w1 -= learning_rate * grad_w1\n",
    "    w2 -= learning_rate * grad_w2\n",
    "    "
   ]
  },
  {
   "cell_type": "code",
   "execution_count": null,
   "metadata": {},
   "outputs": [],
   "source": []
  }
 ],
 "metadata": {
  "kernelspec": {
   "display_name": "Python 3",
   "language": "python",
   "name": "python3"
  },
  "language_info": {
   "codemirror_mode": {
    "name": "ipython",
    "version": 3
   },
   "file_extension": ".py",
   "mimetype": "text/x-python",
   "name": "python",
   "nbconvert_exporter": "python",
   "pygments_lexer": "ipython3",
   "version": "3.8.3"
  },
  "toc": {
   "base_numbering": 1,
   "nav_menu": {},
   "number_sections": true,
   "sideBar": true,
   "skip_h1_title": false,
   "title_cell": "Table of Contents",
   "title_sidebar": "Contents",
   "toc_cell": false,
   "toc_position": {},
   "toc_section_display": true,
   "toc_window_display": false
  },
  "varInspector": {
   "cols": {
    "lenName": 16,
    "lenType": 16,
    "lenVar": 40
   },
   "kernels_config": {
    "python": {
     "delete_cmd_postfix": "",
     "delete_cmd_prefix": "del ",
     "library": "var_list.py",
     "varRefreshCmd": "print(var_dic_list())"
    },
    "r": {
     "delete_cmd_postfix": ") ",
     "delete_cmd_prefix": "rm(",
     "library": "var_list.r",
     "varRefreshCmd": "cat(var_dic_list()) "
    }
   },
   "types_to_exclude": [
    "module",
    "function",
    "builtin_function_or_method",
    "instance",
    "_Feature"
   ],
   "window_display": false
  }
 },
 "nbformat": 4,
 "nbformat_minor": 4
}
