{
 "cells": [
  {
   "cell_type": "code",
   "execution_count": 1,
   "metadata": {
    "ExecuteTime": {
     "end_time": "2021-04-07T14:52:34.304995Z",
     "start_time": "2021-04-07T14:52:31.679212Z"
    }
   },
   "outputs": [],
   "source": [
    "import torch\n",
    "import torch.nn as nn\n",
    "import torch.optim as optim\n",
    "import torch.nn.functional as F\n",
    "from torch.utils.data import DataLoader, TensorDataset\n",
    "import torchvision.datasets as datasets\n",
    "import torchvision.transforms as transforms\n",
    "import torchvision"
   ]
  },
  {
   "cell_type": "code",
   "execution_count": 2,
   "metadata": {
    "ExecuteTime": {
     "end_time": "2021-04-07T14:52:34.320951Z",
     "start_time": "2021-04-07T14:52:34.306002Z"
    }
   },
   "outputs": [],
   "source": [
    "device = 'cpu'\n",
    "\n",
    "input_size = 28\n",
    "sequence_length = 28\n",
    "num_layers = 2\n",
    "hidden_size = 256\n",
    "num_classes = 10\n",
    "lr = 1e-3\n",
    "batch_size = 16\n",
    "epochs = 1\n",
    "\n",
    "class RNN(nn.Module):\n",
    "    def __init__(self, input_size, hidden_size, num_layers, num_classes):\n",
    "        super(RNN,self).__init__()\n",
    "        self.hidden_size = hidden_size\n",
    "        self.num_layers = num_layers\n",
    "        self.rnn = nn.RNN(input_size, hidden_size, num_layers, batch_first = True)\n",
    "        #nn.GRU(input_size, hidden_size, num_layers, batch_first = True)\n",
    "        #nn.LSTM(input_size, hidden_size, num_layers, batch_first = True)\n",
    "        # N x time_seq x features\n",
    "        self.fc = nn.Linear(hidden_size*sequence_length, num_classes)\n",
    "        \n",
    "    def forward(self, x):\n",
    "        h0 = torch.zeros(self.num_layers, x.size(0), self.hidden_size)\n",
    "\n",
    "        # LSTM --> c0 = torch.zeros(self.num_layers, x.size(0), self.hidden_size)\n",
    "        # Forward\n",
    "        out, _ = self.rnn(x, h0)\n",
    "        #LSTM --> out, _ = self.gru(x, (h0, c0))\n",
    "        \n",
    "        out = out.reshape(out.shape[0], -1)\n",
    "        out = self.fc(out)\n",
    "        #LSTM --> out = self.fc(out[:, -1, :])\n",
    "        return out\n",
    "        "
   ]
  },
  {
   "cell_type": "code",
   "execution_count": 3,
   "metadata": {
    "ExecuteTime": {
     "end_time": "2021-04-07T14:52:34.907356Z",
     "start_time": "2021-04-07T14:52:34.321950Z"
    }
   },
   "outputs": [],
   "source": [
    "import pickle, gzip\n",
    "\n",
    "with gzip.open('C:/Users/OWNER/Desktop/mnist.pkl.gz', 'rb') as f:\n",
    "    ((x_train, y_train), (x_test, y_test), _) = pickle.load(f, encoding=\"latin-1\")\n",
    "    \n",
    "batch_size = 16\n",
    "\n",
    "x_train, y_train, x_test, y_test = map(torch.tensor,\n",
    "                                       (x_train, y_train, x_test, y_test))\n",
    "\n",
    "train_ds = TensorDataset(x_train, y_train)\n",
    "test_ds = TensorDataset(x_test, y_test)\n",
    "\n",
    "train_loader = DataLoader(train_ds, batch_size=batch_size)\n",
    "test_loader = DataLoader(test_ds, batch_size=batch_size)"
   ]
  },
  {
   "cell_type": "code",
   "execution_count": 4,
   "metadata": {
    "ExecuteTime": {
     "end_time": "2021-04-07T14:52:34.923313Z",
     "start_time": "2021-04-07T14:52:34.908353Z"
    }
   },
   "outputs": [],
   "source": [
    "model = RNN(input_size=input_size, hidden_size = hidden_size, num_layers= num_layers, num_classes=num_classes)\n",
    "criterion = nn.CrossEntropyLoss()\n",
    "optimizer = optim.SGD(model.parameters(), lr= lr)"
   ]
  },
  {
   "cell_type": "code",
   "execution_count": 5,
   "metadata": {
    "ExecuteTime": {
     "end_time": "2021-04-07T14:53:08.725967Z",
     "start_time": "2021-04-07T14:52:34.924311Z"
    }
   },
   "outputs": [],
   "source": [
    "for epoch in range(epochs):\n",
    "    losses = []\n",
    "    for data, targets in train_loader:\n",
    "        data = data.reshape(-1, 28, 28)\n",
    "        preds = model(data)\n",
    "        \n",
    "        loss = criterion(preds, targets)\n",
    "        optimizer.zero_grad()\n",
    "        loss.backward()\n",
    "        optimizer.step()"
   ]
  },
  {
   "cell_type": "code",
   "execution_count": 6,
   "metadata": {
    "ExecuteTime": {
     "end_time": "2021-04-07T14:53:08.741924Z",
     "start_time": "2021-04-07T14:53:08.726964Z"
    }
   },
   "outputs": [],
   "source": [
    "def get_acc(loader, model):\n",
    "    num_correct = 0\n",
    "    num_pred = 0\n",
    "    model.eval()\n",
    "    \n",
    "    with torch.no_grad():\n",
    "        for x, y in loader:\n",
    "            x = x.reshape(-1, 28, 28)\n",
    "            scores = model(x)\n",
    "            _, preds = scores.max(1)\n",
    "            num_correct += (preds == y).sum()\n",
    "            num_pred += len(preds)\n",
    "            \n",
    "        print(f\"{num_correct}/{num_pred} --> Acc : {(num_correct/num_pred)*100:.4f}%\")\n",
    "    model.train()   "
   ]
  },
  {
   "cell_type": "code",
   "execution_count": 7,
   "metadata": {
    "ExecuteTime": {
     "end_time": "2021-04-07T14:53:19.545416Z",
     "start_time": "2021-04-07T14:53:08.743919Z"
    }
   },
   "outputs": [
    {
     "name": "stdout",
     "output_type": "stream",
     "text": [
      "42620/50000 --> Acc : 85.2400%\n",
      "8697/10000 --> Acc : 86.9700%\n"
     ]
    }
   ],
   "source": [
    "get_acc(train_loader, model)\n",
    "get_acc(test_loader, model)"
   ]
  },
  {
   "cell_type": "code",
   "execution_count": null,
   "metadata": {},
   "outputs": [],
   "source": []
  }
 ],
 "metadata": {
  "kernelspec": {
   "display_name": "Python 3",
   "language": "python",
   "name": "python3"
  },
  "language_info": {
   "codemirror_mode": {
    "name": "ipython",
    "version": 3
   },
   "file_extension": ".py",
   "mimetype": "text/x-python",
   "name": "python",
   "nbconvert_exporter": "python",
   "pygments_lexer": "ipython3",
   "version": "3.8.3"
  },
  "toc": {
   "base_numbering": 1,
   "nav_menu": {},
   "number_sections": true,
   "sideBar": true,
   "skip_h1_title": false,
   "title_cell": "Table of Contents",
   "title_sidebar": "Contents",
   "toc_cell": false,
   "toc_position": {},
   "toc_section_display": true,
   "toc_window_display": false
  },
  "varInspector": {
   "cols": {
    "lenName": 16,
    "lenType": 16,
    "lenVar": 40
   },
   "kernels_config": {
    "python": {
     "delete_cmd_postfix": "",
     "delete_cmd_prefix": "del ",
     "library": "var_list.py",
     "varRefreshCmd": "print(var_dic_list())"
    },
    "r": {
     "delete_cmd_postfix": ") ",
     "delete_cmd_prefix": "rm(",
     "library": "var_list.r",
     "varRefreshCmd": "cat(var_dic_list()) "
    }
   },
   "types_to_exclude": [
    "module",
    "function",
    "builtin_function_or_method",
    "instance",
    "_Feature"
   ],
   "window_display": false
  }
 },
 "nbformat": 4,
 "nbformat_minor": 4
}
